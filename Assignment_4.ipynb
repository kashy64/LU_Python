{
  "nbformat": 4,
  "nbformat_minor": 0,
  "metadata": {
    "colab": {
      "name": "Assignment-4.ipynb",
      "provenance": [],
      "collapsed_sections": []
    },
    "kernelspec": {
      "name": "python3",
      "display_name": "Python 3"
    }
  },
  "cells": [
    {
      "cell_type": "code",
      "metadata": {
        "id": "2Xaj0DEdczRc"
      },
      "source": [
        "# 1) a program in Python for Opening a File and Writing \" I Love LetsUpgrade\" And close it, and read it back again, and then append some data to it and close it."
      ],
      "execution_count": 41,
      "outputs": []
    },
    {
      "cell_type": "code",
      "metadata": {
        "id": "bW8BczKAfsbL"
      },
      "source": [
        "abc = open(\"Hey_World.txt\",'w')\r\n",
        "\r\n",
        "abc.write(\"I Love LetsUpgrade\")\r\n",
        "\r\n",
        "abc.close()"
      ],
      "execution_count": 42,
      "outputs": []
    },
    {
      "cell_type": "code",
      "metadata": {
        "id": "xtm6agM4gVyF"
      },
      "source": [
        "abc = open(\"Hey_World.txt\",'r')\r\n",
        "\r\n",
        "c = abc.read()\r\n",
        "\r\n",
        "abc.close()"
      ],
      "execution_count": 43,
      "outputs": []
    },
    {
      "cell_type": "code",
      "metadata": {
        "colab": {
          "base_uri": "https://localhost:8080/",
          "height": 35
        },
        "id": "UfvgeBpKgbCR",
        "outputId": "ab4b862c-32c2-4b3c-c963-d5d6e15e1c22"
      },
      "source": [
        "c"
      ],
      "execution_count": 44,
      "outputs": [
        {
          "output_type": "execute_result",
          "data": {
            "application/vnd.google.colaboratory.intrinsic+json": {
              "type": "string"
            },
            "text/plain": [
              "'I Love LetsUpgrade'"
            ]
          },
          "metadata": {
            "tags": []
          },
          "execution_count": 44
        }
      ]
    },
    {
      "cell_type": "code",
      "metadata": {
        "id": "WcAqfE5vgeq9"
      },
      "source": [
        "abc=open(\"Hey_World.txt\",'a')\r\n",
        "z=abc.write(\"I am Kashyap\")\r\n",
        "abc.close()"
      ],
      "execution_count": 45,
      "outputs": []
    },
    {
      "cell_type": "code",
      "metadata": {
        "colab": {
          "base_uri": "https://localhost:8080/"
        },
        "id": "Kifi57kMg6SN",
        "outputId": "6d2331fd-e7be-44aa-e9d2-c0f2c9ba9cca"
      },
      "source": [
        "abc = open(\"Hey_World.txt\",'r+')\r\n",
        "\r\n",
        "print(abc.read())\r\n"
      ],
      "execution_count": 46,
      "outputs": [
        {
          "output_type": "stream",
          "text": [
            "I Love LetsUpgradeI am Kashyap\n"
          ],
          "name": "stdout"
        }
      ]
    },
    {
      "cell_type": "code",
      "metadata": {
        "id": "bWDaqi27hXRO"
      },
      "source": [
        "# 2) Write a function which can return a Factorial of any numbers as INT, given in the argument"
      ],
      "execution_count": 47,
      "outputs": []
    },
    {
      "cell_type": "code",
      "metadata": {
        "id": "WOmHULtchZCr"
      },
      "source": [
        "def factorial(n):\r\n",
        "  if n<1:\r\n",
        "    return 1\r\n",
        "  else:\r\n",
        "    return int(n*(factorial(n-1)))"
      ],
      "execution_count": 48,
      "outputs": []
    },
    {
      "cell_type": "code",
      "metadata": {
        "colab": {
          "base_uri": "https://localhost:8080/"
        },
        "id": "U-djLd6okBeN",
        "outputId": "4a1a81f6-3533-4e30-bc52-424893eb59cd"
      },
      "source": [
        "factorial(4)"
      ],
      "execution_count": 49,
      "outputs": [
        {
          "output_type": "execute_result",
          "data": {
            "text/plain": [
              "24"
            ]
          },
          "metadata": {
            "tags": []
          },
          "execution_count": 49
        }
      ]
    },
    {
      "cell_type": "code",
      "metadata": {
        "id": "UGGvFD7dkDuD"
      },
      "source": [
        ""
      ],
      "execution_count": 49,
      "outputs": []
    }
  ]
}