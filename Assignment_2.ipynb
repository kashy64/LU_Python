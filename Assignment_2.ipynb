{
  "nbformat": 4,
  "nbformat_minor": 0,
  "metadata": {
    "colab": {
      "name": "Assignment-2.ipynb",
      "provenance": [],
      "collapsed_sections": []
    },
    "kernelspec": {
      "name": "python3",
      "display_name": "Python 3"
    }
  },
  "cells": [
    {
      "cell_type": "markdown",
      "metadata": {
        "id": "9iM_NOkp31h7"
      },
      "source": [
        "1) Functions in Strings"
      ]
    },
    {
      "cell_type": "code",
      "metadata": {
        "id": "z713ePZP33wE"
      },
      "source": [
        "Name = \"Kashyap\""
      ],
      "execution_count": 187,
      "outputs": []
    },
    {
      "cell_type": "code",
      "metadata": {
        "id": "swGX-IWQ4ICH"
      },
      "source": [
        "n=\"Pandu\""
      ],
      "execution_count": 188,
      "outputs": []
    },
    {
      "cell_type": "code",
      "metadata": {
        "id": "Ce_P7nLc7Hu3"
      },
      "source": [
        "#1) index()"
      ],
      "execution_count": 189,
      "outputs": []
    },
    {
      "cell_type": "code",
      "metadata": {
        "colab": {
          "base_uri": "https://localhost:8080/"
        },
        "id": "Lca6L8Sx4TFZ",
        "outputId": "f61f26e2-52a4-4ffa-9385-27c683b580e6"
      },
      "source": [
        "Name.index('a')"
      ],
      "execution_count": 190,
      "outputs": [
        {
          "output_type": "execute_result",
          "data": {
            "text/plain": [
              "1"
            ]
          },
          "metadata": {
            "tags": []
          },
          "execution_count": 190
        }
      ]
    },
    {
      "cell_type": "code",
      "metadata": {
        "colab": {
          "base_uri": "https://localhost:8080/"
        },
        "id": "bJJ-Vwye7aKd",
        "outputId": "35e701da-3859-4320-bf21-332def995703"
      },
      "source": [
        "n.index('u')"
      ],
      "execution_count": 191,
      "outputs": [
        {
          "output_type": "execute_result",
          "data": {
            "text/plain": [
              "4"
            ]
          },
          "metadata": {
            "tags": []
          },
          "execution_count": 191
        }
      ]
    },
    {
      "cell_type": "code",
      "metadata": {
        "id": "1MiJV1Sj7M-C"
      },
      "source": [
        "#2) Concatenating Two strings"
      ],
      "execution_count": 192,
      "outputs": []
    },
    {
      "cell_type": "code",
      "metadata": {
        "colab": {
          "base_uri": "https://localhost:8080/"
        },
        "id": "MIPzVavG4X0r",
        "outputId": "010f4eb2-1bec-4092-9a9b-aaeb5563d829"
      },
      "source": [
        "print(\"{} {}\".format(Name,n))"
      ],
      "execution_count": 193,
      "outputs": [
        {
          "output_type": "stream",
          "text": [
            "Kashyap Pandu\n"
          ],
          "name": "stdout"
        }
      ]
    },
    {
      "cell_type": "code",
      "metadata": {
        "colab": {
          "base_uri": "https://localhost:8080/"
        },
        "id": "6B3eO-EN5KUd",
        "outputId": "ab3c9391-a0cb-426d-d0cd-c0e5f777cb36"
      },
      "source": [
        "print(\" \".join([Name,n]))"
      ],
      "execution_count": 194,
      "outputs": [
        {
          "output_type": "stream",
          "text": [
            "Kashyap Pandu\n"
          ],
          "name": "stdout"
        }
      ]
    },
    {
      "cell_type": "code",
      "metadata": {
        "colab": {
          "base_uri": "https://localhost:8080/"
        },
        "id": "u6u34WhH52yu",
        "outputId": "663e64f6-c23d-4b66-830c-f2b14029afca"
      },
      "source": [
        "print(Name+\" \"+n)"
      ],
      "execution_count": 195,
      "outputs": [
        {
          "output_type": "stream",
          "text": [
            "Kashyap Pandu\n"
          ],
          "name": "stdout"
        }
      ]
    },
    {
      "cell_type": "code",
      "metadata": {
        "id": "j0_nAJCL7UcM"
      },
      "source": [
        "#3) split( ) function "
      ],
      "execution_count": 196,
      "outputs": []
    },
    {
      "cell_type": "code",
      "metadata": {
        "colab": {
          "base_uri": "https://localhost:8080/"
        },
        "id": "bbyQ29u351wt",
        "outputId": "4f9c25c2-74db-4531-dbe9-ac08a0e679f7"
      },
      "source": [
        "\"Kashyap Pandu\".split()"
      ],
      "execution_count": 197,
      "outputs": [
        {
          "output_type": "execute_result",
          "data": {
            "text/plain": [
              "['Kashyap', 'Pandu']"
            ]
          },
          "metadata": {
            "tags": []
          },
          "execution_count": 197
        }
      ]
    },
    {
      "cell_type": "code",
      "metadata": {
        "id": "JEA-5nkB6X9g"
      },
      "source": [
        "#4) replace( ) function"
      ],
      "execution_count": 198,
      "outputs": []
    },
    {
      "cell_type": "code",
      "metadata": {
        "colab": {
          "base_uri": "https://localhost:8080/",
          "height": 35
        },
        "id": "aOPH_O418CfQ",
        "outputId": "aea8bd3b-2bd5-4bac-cca7-5796e3c62fec"
      },
      "source": [
        "\"Kashyap Pandu\".replace(\"Kashyap\",\"Surya\")"
      ],
      "execution_count": 199,
      "outputs": [
        {
          "output_type": "execute_result",
          "data": {
            "application/vnd.google.colaboratory.intrinsic+json": {
              "type": "string"
            },
            "text/plain": [
              "'Surya Pandu'"
            ]
          },
          "metadata": {
            "tags": []
          },
          "execution_count": 199
        }
      ]
    },
    {
      "cell_type": "code",
      "metadata": {
        "id": "ZJCMVXyG8JT0"
      },
      "source": [
        "#5) isupper( ) function"
      ],
      "execution_count": 200,
      "outputs": []
    },
    {
      "cell_type": "code",
      "metadata": {
        "colab": {
          "base_uri": "https://localhost:8080/"
        },
        "id": "U9fTXYj98Vxk",
        "outputId": "0f76f6a2-e740-4169-93a0-1351cd6dfbbb"
      },
      "source": [
        "\"Kashyap Pandu\".isupper()"
      ],
      "execution_count": 201,
      "outputs": [
        {
          "output_type": "execute_result",
          "data": {
            "text/plain": [
              "False"
            ]
          },
          "metadata": {
            "tags": []
          },
          "execution_count": 201
        }
      ]
    },
    {
      "cell_type": "code",
      "metadata": {
        "id": "00UAicnZ8ZHg"
      },
      "source": [
        "#6) upper( ) function"
      ],
      "execution_count": 202,
      "outputs": []
    },
    {
      "cell_type": "code",
      "metadata": {
        "colab": {
          "base_uri": "https://localhost:8080/",
          "height": 35
        },
        "id": "F5UuywuO8fT5",
        "outputId": "9a36f8b1-e522-4617-87c5-614d157c4564"
      },
      "source": [
        "\"Kashyap Pandu\".upper()"
      ],
      "execution_count": 203,
      "outputs": [
        {
          "output_type": "execute_result",
          "data": {
            "application/vnd.google.colaboratory.intrinsic+json": {
              "type": "string"
            },
            "text/plain": [
              "'KASHYAP PANDU'"
            ]
          },
          "metadata": {
            "tags": []
          },
          "execution_count": 203
        }
      ]
    },
    {
      "cell_type": "markdown",
      "metadata": {
        "id": "1Jo5cIRs8llo"
      },
      "source": [
        "2) Functions Of List Object"
      ]
    },
    {
      "cell_type": "code",
      "metadata": {
        "id": "DaYmZdLZ8h_f"
      },
      "source": [
        "#1) insert( ) function"
      ],
      "execution_count": 204,
      "outputs": []
    },
    {
      "cell_type": "code",
      "metadata": {
        "id": "D_cmkmvw9E8O"
      },
      "source": [
        "l=[\"ABC\",\"DEF\",\"GHI\"]"
      ],
      "execution_count": 205,
      "outputs": []
    },
    {
      "cell_type": "code",
      "metadata": {
        "id": "t1dkCuPd9KLw"
      },
      "source": [
        "l.insert(25,25)"
      ],
      "execution_count": 206,
      "outputs": []
    },
    {
      "cell_type": "code",
      "metadata": {
        "colab": {
          "base_uri": "https://localhost:8080/"
        },
        "id": "GWQ3-kgL9NF2",
        "outputId": "949b2628-a41e-4155-c44d-543dde5372fc"
      },
      "source": [
        "l"
      ],
      "execution_count": 207,
      "outputs": [
        {
          "output_type": "execute_result",
          "data": {
            "text/plain": [
              "['ABC', 'DEF', 'GHI', 25]"
            ]
          },
          "metadata": {
            "tags": []
          },
          "execution_count": 207
        }
      ]
    },
    {
      "cell_type": "code",
      "metadata": {
        "id": "MwQCpXF89hmb"
      },
      "source": [
        "#2) pop( ) function"
      ],
      "execution_count": 208,
      "outputs": []
    },
    {
      "cell_type": "code",
      "metadata": {
        "colab": {
          "base_uri": "https://localhost:8080/"
        },
        "id": "fJ7kJN3L9u-6",
        "outputId": "3e2a415c-69ca-4183-dc22-8b4910a6b666"
      },
      "source": [
        "l.pop()\r\n",
        "l"
      ],
      "execution_count": 209,
      "outputs": [
        {
          "output_type": "execute_result",
          "data": {
            "text/plain": [
              "['ABC', 'DEF', 'GHI']"
            ]
          },
          "metadata": {
            "tags": []
          },
          "execution_count": 209
        }
      ]
    },
    {
      "cell_type": "code",
      "metadata": {
        "id": "xQEcs0kH-AOT"
      },
      "source": [
        "#3) append( ) function"
      ],
      "execution_count": 210,
      "outputs": []
    },
    {
      "cell_type": "code",
      "metadata": {
        "id": "wwS5BfuR_KjX"
      },
      "source": [
        "l.append(\"XYZ\")"
      ],
      "execution_count": 211,
      "outputs": []
    },
    {
      "cell_type": "code",
      "metadata": {
        "colab": {
          "base_uri": "https://localhost:8080/"
        },
        "id": "_akm_8JG_PCN",
        "outputId": "e66a9723-4a91-4513-d597-c4bad6a0c37e"
      },
      "source": [
        "l"
      ],
      "execution_count": 212,
      "outputs": [
        {
          "output_type": "execute_result",
          "data": {
            "text/plain": [
              "['ABC', 'DEF', 'GHI', 'XYZ']"
            ]
          },
          "metadata": {
            "tags": []
          },
          "execution_count": 212
        }
      ]
    },
    {
      "cell_type": "code",
      "metadata": {
        "id": "g9cte7gc_T-j"
      },
      "source": [
        "#4 __len__( ) function"
      ],
      "execution_count": 213,
      "outputs": []
    },
    {
      "cell_type": "code",
      "metadata": {
        "colab": {
          "base_uri": "https://localhost:8080/"
        },
        "id": "saGx12YZ_eGY",
        "outputId": "4a33ddf4-461c-4c19-ebf8-60117ae161bc"
      },
      "source": [
        "l.__len__()"
      ],
      "execution_count": 214,
      "outputs": [
        {
          "output_type": "execute_result",
          "data": {
            "text/plain": [
              "4"
            ]
          },
          "metadata": {
            "tags": []
          },
          "execution_count": 214
        }
      ]
    },
    {
      "cell_type": "code",
      "metadata": {
        "colab": {
          "base_uri": "https://localhost:8080/"
        },
        "id": "EICLNCH6_fZ8",
        "outputId": "2fe878dd-2ed1-4171-b080-bb119bbbbc52"
      },
      "source": [
        "len(l[2])"
      ],
      "execution_count": 215,
      "outputs": [
        {
          "output_type": "execute_result",
          "data": {
            "text/plain": [
              "3"
            ]
          },
          "metadata": {
            "tags": []
          },
          "execution_count": 215
        }
      ]
    },
    {
      "cell_type": "code",
      "metadata": {
        "colab": {
          "base_uri": "https://localhost:8080/"
        },
        "id": "CYX330lk_8Bo",
        "outputId": "59a7e18d-2ba7-47de-d617-2f57d3e036ac"
      },
      "source": [
        "len(l[:])==l.__len__()"
      ],
      "execution_count": 216,
      "outputs": [
        {
          "output_type": "execute_result",
          "data": {
            "text/plain": [
              "True"
            ]
          },
          "metadata": {
            "tags": []
          },
          "execution_count": 216
        }
      ]
    },
    {
      "cell_type": "code",
      "metadata": {
        "colab": {
          "base_uri": "https://localhost:8080/"
        },
        "id": "Hn4UDcdnABJC",
        "outputId": "01dfec8e-d81f-4874-e7c0-7761e57e7bb6"
      },
      "source": [
        "v=\"Kashyap\"\r\n",
        "len(v)"
      ],
      "execution_count": 217,
      "outputs": [
        {
          "output_type": "execute_result",
          "data": {
            "text/plain": [
              "7"
            ]
          },
          "metadata": {
            "tags": []
          },
          "execution_count": 217
        }
      ]
    },
    {
      "cell_type": "code",
      "metadata": {
        "colab": {
          "base_uri": "https://localhost:8080/"
        },
        "id": "2Z1JIXpgAVAr",
        "outputId": "55f4d08a-efcf-437c-f829-3d50b29388fd"
      },
      "source": [
        "v.split()"
      ],
      "execution_count": 218,
      "outputs": [
        {
          "output_type": "execute_result",
          "data": {
            "text/plain": [
              "['Kashyap']"
            ]
          },
          "metadata": {
            "tags": []
          },
          "execution_count": 218
        }
      ]
    },
    {
      "cell_type": "code",
      "metadata": {
        "id": "n08gjR6uAgF7"
      },
      "source": [
        "#5) reverse( ) function "
      ],
      "execution_count": 219,
      "outputs": []
    },
    {
      "cell_type": "code",
      "metadata": {
        "id": "kYp0Yid3A0ia"
      },
      "source": [
        "l.reverse()"
      ],
      "execution_count": 220,
      "outputs": []
    },
    {
      "cell_type": "code",
      "metadata": {
        "colab": {
          "base_uri": "https://localhost:8080/"
        },
        "id": "oxJ8zZBuA2xv",
        "outputId": "8d49505b-59c7-4fe9-d7e8-ecf210c1c437"
      },
      "source": [
        "l"
      ],
      "execution_count": 221,
      "outputs": [
        {
          "output_type": "execute_result",
          "data": {
            "text/plain": [
              "['XYZ', 'GHI', 'DEF', 'ABC']"
            ]
          },
          "metadata": {
            "tags": []
          },
          "execution_count": 221
        }
      ]
    },
    {
      "cell_type": "code",
      "metadata": {
        "id": "ERk0WXF7BCXZ"
      },
      "source": [
        "a=[25,250,100]"
      ],
      "execution_count": 222,
      "outputs": []
    },
    {
      "cell_type": "code",
      "metadata": {
        "id": "bIJ8lriaBOA4"
      },
      "source": [
        "a.append(l)"
      ],
      "execution_count": 223,
      "outputs": []
    },
    {
      "cell_type": "code",
      "metadata": {
        "colab": {
          "base_uri": "https://localhost:8080/"
        },
        "id": "uh34gBQIBb7x",
        "outputId": "3e5b2dc8-4512-43dc-fa92-dcb4ff5064dc"
      },
      "source": [
        "a"
      ],
      "execution_count": 224,
      "outputs": [
        {
          "output_type": "execute_result",
          "data": {
            "text/plain": [
              "[25, 250, 100, ['XYZ', 'GHI', 'DEF', 'ABC']]"
            ]
          },
          "metadata": {
            "tags": []
          },
          "execution_count": 224
        }
      ]
    },
    {
      "cell_type": "code",
      "metadata": {
        "id": "CnLxiDFjB6N1"
      },
      "source": [
        "a.reverse()"
      ],
      "execution_count": 225,
      "outputs": []
    },
    {
      "cell_type": "code",
      "metadata": {
        "colab": {
          "base_uri": "https://localhost:8080/"
        },
        "id": "7WYZCTutCIbF",
        "outputId": "ad18575e-8dc9-4e19-d422-3fafd3b53efb"
      },
      "source": [
        "a"
      ],
      "execution_count": 226,
      "outputs": [
        {
          "output_type": "execute_result",
          "data": {
            "text/plain": [
              "[['XYZ', 'GHI', 'DEF', 'ABC'], 100, 250, 25]"
            ]
          },
          "metadata": {
            "tags": []
          },
          "execution_count": 226
        }
      ]
    },
    {
      "cell_type": "markdown",
      "metadata": {
        "id": "4gDk-ms0CRYN"
      },
      "source": [
        "3) Functions in Dictionary"
      ]
    },
    {
      "cell_type": "code",
      "metadata": {
        "id": "4UNxqBeACWKD"
      },
      "source": [
        "d={\"Name\":[\"ABC\",\"GHI\",\"JKL\"],\"Marks\":[75,85,95]}"
      ],
      "execution_count": 227,
      "outputs": []
    },
    {
      "cell_type": "code",
      "metadata": {
        "id": "xw_FW0_mCqEv"
      },
      "source": [
        "#1) keys( ) function"
      ],
      "execution_count": 228,
      "outputs": []
    },
    {
      "cell_type": "code",
      "metadata": {
        "colab": {
          "base_uri": "https://localhost:8080/"
        },
        "id": "EJm_fAaYClE8",
        "outputId": "d843300a-d4d3-431d-9414-e2e2202d10b6"
      },
      "source": [
        "d.keys()"
      ],
      "execution_count": 229,
      "outputs": [
        {
          "output_type": "execute_result",
          "data": {
            "text/plain": [
              "dict_keys(['Name', 'Marks'])"
            ]
          },
          "metadata": {
            "tags": []
          },
          "execution_count": 229
        }
      ]
    },
    {
      "cell_type": "code",
      "metadata": {
        "id": "ZOoliKUEDAoe"
      },
      "source": [
        "#2) values( ) function"
      ],
      "execution_count": 230,
      "outputs": []
    },
    {
      "cell_type": "code",
      "metadata": {
        "colab": {
          "base_uri": "https://localhost:8080/"
        },
        "id": "cDcmLs1DCnoH",
        "outputId": "9b82093c-4874-46bb-a5a3-2118f4388ceb"
      },
      "source": [
        "d.values()"
      ],
      "execution_count": 231,
      "outputs": [
        {
          "output_type": "execute_result",
          "data": {
            "text/plain": [
              "dict_values([['ABC', 'GHI', 'JKL'], [75, 85, 95]])"
            ]
          },
          "metadata": {
            "tags": []
          },
          "execution_count": 231
        }
      ]
    },
    {
      "cell_type": "code",
      "metadata": {
        "id": "eUj8GvpyDE2e"
      },
      "source": [
        "#3) items( ) function"
      ],
      "execution_count": 232,
      "outputs": []
    },
    {
      "cell_type": "code",
      "metadata": {
        "colab": {
          "base_uri": "https://localhost:8080/"
        },
        "id": "szw9BbRACvIn",
        "outputId": "6b625633-ce7f-4a3e-a3fa-bb3497df1fa2"
      },
      "source": [
        "d.items()"
      ],
      "execution_count": 233,
      "outputs": [
        {
          "output_type": "execute_result",
          "data": {
            "text/plain": [
              "dict_items([('Name', ['ABC', 'GHI', 'JKL']), ('Marks', [75, 85, 95])])"
            ]
          },
          "metadata": {
            "tags": []
          },
          "execution_count": 233
        }
      ]
    },
    {
      "cell_type": "code",
      "metadata": {
        "id": "-TlC0-7WC-YJ"
      },
      "source": [
        "#4) len( ) function"
      ],
      "execution_count": 234,
      "outputs": []
    },
    {
      "cell_type": "code",
      "metadata": {
        "colab": {
          "base_uri": "https://localhost:8080/"
        },
        "id": "iXFWgYKWDWtU",
        "outputId": "300b9211-776c-4f68-b534-680097fac1c1"
      },
      "source": [
        "d.__len__()"
      ],
      "execution_count": 235,
      "outputs": [
        {
          "output_type": "execute_result",
          "data": {
            "text/plain": [
              "2"
            ]
          },
          "metadata": {
            "tags": []
          },
          "execution_count": 235
        }
      ]
    },
    {
      "cell_type": "code",
      "metadata": {
        "id": "z70RANiMDajj"
      },
      "source": [
        "#5) getitem( ) function"
      ],
      "execution_count": 236,
      "outputs": []
    },
    {
      "cell_type": "code",
      "metadata": {
        "colab": {
          "base_uri": "https://localhost:8080/"
        },
        "id": "gTe2_uNJDskM",
        "outputId": "e3915484-5d85-4d7f-8856-ce08ac339192"
      },
      "source": [
        "d.__getitem__(\"Marks\")"
      ],
      "execution_count": 237,
      "outputs": [
        {
          "output_type": "execute_result",
          "data": {
            "text/plain": [
              "[75, 85, 95]"
            ]
          },
          "metadata": {
            "tags": []
          },
          "execution_count": 237
        }
      ]
    },
    {
      "cell_type": "code",
      "metadata": {
        "id": "99GLjr6XDzTc"
      },
      "source": [
        "#6) __setitem__( ) function"
      ],
      "execution_count": 238,
      "outputs": []
    },
    {
      "cell_type": "code",
      "metadata": {
        "id": "9DNKUC8uFGgG"
      },
      "source": [
        "d.__setitem__(\"Score\",['A','A+','O'])"
      ],
      "execution_count": 239,
      "outputs": []
    },
    {
      "cell_type": "code",
      "metadata": {
        "colab": {
          "base_uri": "https://localhost:8080/"
        },
        "id": "PjJ04z0GFQ8W",
        "outputId": "d6613f1c-2907-44ff-9fca-985cbc9c65bf"
      },
      "source": [
        "d"
      ],
      "execution_count": 240,
      "outputs": [
        {
          "output_type": "execute_result",
          "data": {
            "text/plain": [
              "{'Marks': [75, 85, 95],\n",
              " 'Name': ['ABC', 'GHI', 'JKL'],\n",
              " 'Score': ['A', 'A+', 'O']}"
            ]
          },
          "metadata": {
            "tags": []
          },
          "execution_count": 240
        }
      ]
    },
    {
      "cell_type": "code",
      "metadata": {
        "id": "x2BV13UkFe1W"
      },
      "source": [
        ""
      ],
      "execution_count": 240,
      "outputs": []
    },
    {
      "cell_type": "code",
      "metadata": {
        "id": "jT7HcD_UFlem"
      },
      "source": [
        ""
      ],
      "execution_count": 240,
      "outputs": []
    }
  ]
}