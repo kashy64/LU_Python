{
  "nbformat": 4,
  "nbformat_minor": 0,
  "metadata": {
    "kernelspec": {
      "display_name": "Python 3",
      "language": "python",
      "name": "python3"
    },
    "language_info": {
      "codemirror_mode": {
        "name": "ipython",
        "version": 3
      },
      "file_extension": ".py",
      "mimetype": "text/x-python",
      "name": "python",
      "nbconvert_exporter": "python",
      "pygments_lexer": "ipython3",
      "version": "3.7.4"
    },
    "colab": {
      "name": "Project_Mail.ipynb",
      "provenance": [],
      "collapsed_sections": []
    }
  },
  "cells": [
    {
      "cell_type": "code",
      "metadata": {
        "id": "5ip6VW0NepfT"
      },
      "source": [
        "# Ageda 1 - > To makle new Project | Sending Email to friend - 15"
      ],
      "execution_count": 1,
      "outputs": []
    },
    {
      "cell_type": "code",
      "metadata": {
        "id": "SQ1aV7qQepfh"
      },
      "source": [
        "# Ageda 2 -> Learn more about Firebase - 10"
      ],
      "execution_count": null,
      "outputs": []
    },
    {
      "cell_type": "code",
      "metadata": {
        "id": "13cc6rtLepfj"
      },
      "source": [
        "# Agenda 3 -> Refresh yesterday's project - 10"
      ],
      "execution_count": null,
      "outputs": []
    },
    {
      "cell_type": "code",
      "metadata": {
        "id": "VTX305tGepfk"
      },
      "source": [
        ""
      ],
      "execution_count": null,
      "outputs": []
    },
    {
      "cell_type": "code",
      "metadata": {
        "id": "GKdb9TlOepfk"
      },
      "source": [
        ""
      ],
      "execution_count": null,
      "outputs": []
    },
    {
      "cell_type": "markdown",
      "metadata": {
        "id": "f2YLZSOuepfl"
      },
      "source": [
        "# Project 2 -> "
      ]
    },
    {
      "cell_type": "code",
      "metadata": {
        "id": "8DaH0ErVepfl"
      },
      "source": [
        "# A PYTHON SCRIPT WHICH WE CAN USE to send EMAILs to our friends and Family members"
      ],
      "execution_count": null,
      "outputs": []
    },
    {
      "cell_type": "code",
      "metadata": {
        "id": "XlB0Rf6Kepfm"
      },
      "source": [
        "# 1. What are things which are required for sending emails ? "
      ],
      "execution_count": null,
      "outputs": []
    },
    {
      "cell_type": "code",
      "metadata": {
        "id": "Kw6KO66pepfn"
      },
      "source": [
        "# ANs - We require SMTP Server to send a EMAIL "
      ],
      "execution_count": null,
      "outputs": []
    },
    {
      "cell_type": "code",
      "metadata": {
        "id": "I4TyUGRsepfn"
      },
      "source": [
        "# 2. What we require before we do this project "
      ],
      "execution_count": null,
      "outputs": []
    },
    {
      "cell_type": "code",
      "metadata": {
        "id": "eJ3eDHASepfo"
      },
      "source": [
        "# Ans- We require ONE LIBRARY -> i.e EMAILS "
      ],
      "execution_count": null,
      "outputs": []
    },
    {
      "cell_type": "code",
      "metadata": {
        "id": "pJMnFOUsepfo",
        "outputId": "be20e1bf-ae2a-4638-9a64-20ff75e775ac"
      },
      "source": [
        "!pip install emails"
      ],
      "execution_count": null,
      "outputs": [
        {
          "output_type": "stream",
          "text": [
            "Requirement already satisfied: emails in /opt/anaconda3/lib/python3.7/site-packages (0.6)\n",
            "Requirement already satisfied: premailer in /opt/anaconda3/lib/python3.7/site-packages (from emails) (3.7.0)\n",
            "Requirement already satisfied: cssutils in /opt/anaconda3/lib/python3.7/site-packages (from emails) (1.0.2)\n",
            "Requirement already satisfied: lxml in /opt/anaconda3/lib/python3.7/site-packages (from emails) (4.4.1)\n",
            "Requirement already satisfied: requests in /opt/anaconda3/lib/python3.7/site-packages (from emails) (2.22.0)\n",
            "Requirement already satisfied: python-dateutil in /opt/anaconda3/lib/python3.7/site-packages (from emails) (2.8.0)\n",
            "Requirement already satisfied: chardet in /opt/anaconda3/lib/python3.7/site-packages (from emails) (3.0.4)\n",
            "Requirement already satisfied: cssselect in /opt/anaconda3/lib/python3.7/site-packages (from premailer->emails) (1.1.0)\n",
            "Requirement already satisfied: cachetools in /opt/anaconda3/lib/python3.7/site-packages (from premailer->emails) (4.0.0)\n",
            "Requirement already satisfied: idna<2.9,>=2.5 in /opt/anaconda3/lib/python3.7/site-packages (from requests->emails) (2.8)\n",
            "Requirement already satisfied: urllib3!=1.25.0,!=1.25.1,<1.26,>=1.21.1 in /opt/anaconda3/lib/python3.7/site-packages (from requests->emails) (1.24.2)\n",
            "Requirement already satisfied: certifi>=2017.4.17 in /opt/anaconda3/lib/python3.7/site-packages (from requests->emails) (2019.9.11)\n",
            "Requirement already satisfied: six>=1.5 in /opt/anaconda3/lib/python3.7/site-packages (from python-dateutil->emails) (1.12.0)\n",
            "\u001b[33mWARNING: You are using pip version 20.0.2; however, version 20.3.1 is available.\n",
            "You should consider upgrading via the '/opt/anaconda3/bin/python -m pip install --upgrade pip' command.\u001b[0m\n"
          ],
          "name": "stdout"
        }
      ]
    },
    {
      "cell_type": "code",
      "metadata": {
        "id": "wf5BrhQOepfr"
      },
      "source": [
        "# 2nd thing which we require is -> A SMTP SERVER Address to send EMAILS VIA IT "
      ],
      "execution_count": null,
      "outputs": []
    },
    {
      "cell_type": "code",
      "metadata": {
        "id": "gfBvcx4Vepfr"
      },
      "source": [
        "# NEW EMAIL -> saikiranaskhjcsydgc@gmail.com"
      ],
      "execution_count": null,
      "outputs": []
    },
    {
      "cell_type": "code",
      "metadata": {
        "id": "kuk7BYQWepfs"
      },
      "source": [
        "# Password -> sakp@1895"
      ],
      "execution_count": null,
      "outputs": []
    },
    {
      "cell_type": "markdown",
      "metadata": {
        "id": "NTVstrefepfs"
      },
      "source": [
        "# Project Start"
      ]
    },
    {
      "cell_type": "code",
      "metadata": {
        "id": "u53UNakRepft"
      },
      "source": [
        "import emails"
      ],
      "execution_count": null,
      "outputs": []
    },
    {
      "cell_type": "code",
      "metadata": {
        "id": "hEU2oy4wepft"
      },
      "source": [
        "html_text = '''<p><span style=\"font-family: Courier New, courier;\"><span style=\"background-color: rgb(247, 218, 100);\">HEY Rowdy,</span>&nbsp;</span></p>\n",
        "<p><span style=\"font-family: Courier New, courier;\"><br></span></p>\n",
        "<p><span style=\"font-family: Courier New, courier;\">How are you this is SAIKIRAN FROM LEtsUpgrade,&nbsp;</span></p>\n",
        "<p><span style=\"font-family: Courier New, courier;\">Cheif Rowdy at LU !!</span></p>\n",
        "<p><span style=\"font-family: Courier New, courier;\">Love teaching you all, hope you like this project&nbsp;</span></p>\n",
        "<p><span style=\"font-family: Courier New, courier;\"><br></span></p>\n",
        "<p><span style=\"font-family: Courier New, courier;\">Regards,&nbsp;</span></p>\n",
        "<p><strong><span style=\"font-family: Courier New, courier;\">Cheif Rowdy,</span></strong></p>\n",
        "<p><span style=\"font-family: Courier New, courier;\"><strong>Saikiran Sondarkar</strong></span></p>'''\n",
        "\n",
        "\n",
        "message = emails.html(html=html_text,\n",
        "                          subject=\"Your EMAIL FROM PYTHON SCRIPT\",\n",
        "                          mail_from=('Rowdy LetsUpgrade', 'sai@xyz.com'))\n"
      ],
      "execution_count": null,
      "outputs": []
    },
    {
      "cell_type": "code",
      "metadata": {
        "id": "-Hq57atPepfu"
      },
      "source": [
        "mail_via_python = message.send(to='nabipi7212@econeom.com', \n",
        "                               smtp={'host': 'smtp.gmail.com', \n",
        "                                     'timeout': 5,\n",
        "                                    'port':587,\n",
        "                                    'user':'YOUREMAIL@REQUIRED>COM',\n",
        "                                    'password':'YourPassWordREquired',\n",
        "                                    'tls':True})\n"
      ],
      "execution_count": null,
      "outputs": []
    },
    {
      "cell_type": "code",
      "metadata": {
        "id": "gdlgfca4epfu",
        "outputId": "2a1a604d-af25-430d-caec-c267dee7b734"
      },
      "source": [
        "mail_via_python"
      ],
      "execution_count": null,
      "outputs": [
        {
          "output_type": "execute_result",
          "data": {
            "text/plain": [
              "<emails.backend.SMTPResponse status_code=250 status_text=b'2.0.0 OK  1608044869 b13sm8637671pfi.162 - gsmtp'>"
            ]
          },
          "metadata": {
            "tags": []
          },
          "execution_count": 39
        }
      ]
    },
    {
      "cell_type": "code",
      "metadata": {
        "id": "VJ4gZLMrepfv"
      },
      "source": [
        "def sendMail(email, name):\n",
        "    \n",
        "    html_text = '''<p><span style=\"font-family: Courier New, courier;\"><span style=\"background-color: rgb(247, 218, 100);\">HEY Rowdy,'''+ name+'''</span>&nbsp;</span></p>\n",
        "                <p><span style=\"font-family: Courier New, courier;\"><br></span></p>\n",
        "                <p><span style=\"font-family: Courier New, courier;\">How are you this is SAIKIRAN FROM LEtsUpgrade,&nbsp;</span></p>\n",
        "                <p><span style=\"font-family: Courier New, courier;\">Cheif Rowdy at LU !!</span></p>\n",
        "                <p><span style=\"font-family: Courier New, courier;\">Love teaching you all, hope you like this project&nbsp;</span></p>\n",
        "                <p><span style=\"font-family: Courier New, courier;\"><br></span></p>\n",
        "                <p><span style=\"font-family: Courier New, courier;\">Regards,&nbsp;</span></p>\n",
        "                <p><strong><span style=\"font-family: Courier New, courier;\">Cheif Rowdy,</span></strong></p>\n",
        "                <p><span style=\"font-family: Courier New, courier;\"><strong>Saikiran Sondarkar</strong></span></p>'''\n",
        "\n",
        "    subject = \"Hey Rowdy \"+ name + \", you have EMAIL FROM LetsUpgrade\"\n",
        "    message = emails.html(html=html_text,\n",
        "                          subject=subject,\n",
        "                          mail_from=('Rowdy LetsUpgrade', 'sai@xyz.com'))\n",
        "\n",
        "    \n",
        "    mail_via_python = message.send(to=email, \n",
        "                               smtp={'host': 'smtp.gmail.com', \n",
        "                                     'timeout': 5,\n",
        "                                    'port':587,\n",
        "                                    'user':'YOUREMAIL@REQUIRED>COM',\n",
        "                                    'password':'YourPassWordREquired',\n",
        "                                    'tls':True})\n",
        "    return mail_via_python.status_code"
      ],
      "execution_count": null,
      "outputs": []
    },
    {
      "cell_type": "code",
      "metadata": {
        "id": "NcCf2y9Iepfw",
        "outputId": "cd1c933d-7d54-47d9-c6ec-0b44b5502914"
      },
      "source": [
        "sendMail(\"nabipi7212@econeom.com\",\"Sai\")"
      ],
      "execution_count": null,
      "outputs": [
        {
          "output_type": "execute_result",
          "data": {
            "text/plain": [
              "250"
            ]
          },
          "metadata": {
            "tags": []
          },
          "execution_count": 41
        }
      ]
    },
    {
      "cell_type": "code",
      "metadata": {
        "id": "KBVLbNxHepfx"
      },
      "source": [
        ""
      ],
      "execution_count": null,
      "outputs": []
    }
  ]
}