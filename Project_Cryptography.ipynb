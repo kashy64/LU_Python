{
  "nbformat": 4,
  "nbformat_minor": 0,
  "metadata": {
    "colab": {
      "name": "Project_Cryptography.ipynb",
      "provenance": [],
      "collapsed_sections": []
    },
    "kernelspec": {
      "name": "python3",
      "display_name": "Python 3"
    }
  },
  "cells": [
    {
      "cell_type": "code",
      "metadata": {
        "id": "XKQHT-5AEgp8"
      },
      "source": [
        "# 1) Do the project"
      ],
      "execution_count": 1,
      "outputs": []
    },
    {
      "cell_type": "code",
      "metadata": {
        "colab": {
          "base_uri": "https://localhost:8080/"
        },
        "id": "SADxhntpVf6u",
        "outputId": "7077fec4-db29-47e9-eb8c-6a18534be2be"
      },
      "source": [
        "pip install Cryptography"
      ],
      "execution_count": 2,
      "outputs": [
        {
          "output_type": "stream",
          "text": [
            "Collecting Cryptography\n",
            "\u001b[?25l  Downloading https://files.pythonhosted.org/packages/c9/de/7054df0620b5411ba45480f0261e1fb66a53f3db31b28e3aa52c026e72d9/cryptography-3.3.1-cp36-abi3-manylinux2010_x86_64.whl (2.6MB)\n",
            "\u001b[K     |████████████████████████████████| 2.6MB 5.7MB/s \n",
            "\u001b[?25hRequirement already satisfied: cffi>=1.12 in /usr/local/lib/python3.6/dist-packages (from Cryptography) (1.14.4)\n",
            "Requirement already satisfied: six>=1.4.1 in /usr/local/lib/python3.6/dist-packages (from Cryptography) (1.15.0)\n",
            "Requirement already satisfied: pycparser in /usr/local/lib/python3.6/dist-packages (from cffi>=1.12->Cryptography) (2.20)\n",
            "Installing collected packages: Cryptography\n",
            "Successfully installed Cryptography-3.3.1\n"
          ],
          "name": "stdout"
        }
      ]
    },
    {
      "cell_type": "code",
      "metadata": {
        "id": "WDteseEaVsp9"
      },
      "source": [
        "from cryptography.fernet import Fernet"
      ],
      "execution_count": 3,
      "outputs": []
    },
    {
      "cell_type": "code",
      "metadata": {
        "id": "-yBDqe-vVyJa"
      },
      "source": [
        "def genratePassKey():\r\n",
        "    key = Fernet.generate_key()\r\n",
        "    print(key)\r\n",
        "    print(type(key))\r\n",
        "    abc = open(\"PasswordKey.key\",'wb')\r\n",
        "    abc.write(key)\r\n",
        "    abc.close()"
      ],
      "execution_count": 4,
      "outputs": []
    },
    {
      "cell_type": "code",
      "metadata": {
        "colab": {
          "base_uri": "https://localhost:8080/"
        },
        "id": "EfR-US5QV1S5",
        "outputId": "3e3aaedb-f64d-4706-e266-f15560f5a937"
      },
      "source": [
        "genratePassKey()"
      ],
      "execution_count": 5,
      "outputs": [
        {
          "output_type": "stream",
          "text": [
            "b'6B_kDPltgRhMq5R4THM0ZoS-I_G0UIqIu1FYseOPnvo='\n",
            "<class 'bytes'>\n"
          ],
          "name": "stdout"
        }
      ]
    },
    {
      "cell_type": "code",
      "metadata": {
        "id": "clQcfvhIV6LS"
      },
      "source": [
        "def getMyKey():\r\n",
        "    abc = open(\"PasswordKey.key\",'rb')\r\n",
        "    return abc.read()"
      ],
      "execution_count": 6,
      "outputs": []
    },
    {
      "cell_type": "code",
      "metadata": {
        "colab": {
          "base_uri": "https://localhost:8080/"
        },
        "id": "yj5pxqYrV927",
        "outputId": "1f065e39-d1fb-4da8-ff14-ef786b4c9806"
      },
      "source": [
        "getMyKey()"
      ],
      "execution_count": 7,
      "outputs": [
        {
          "output_type": "execute_result",
          "data": {
            "text/plain": [
              "b'6B_kDPltgRhMq5R4THM0ZoS-I_G0UIqIu1FYseOPnvo='"
            ]
          },
          "metadata": {
            "tags": []
          },
          "execution_count": 7
        }
      ]
    },
    {
      "cell_type": "code",
      "metadata": {
        "id": "F8yJWOFJWAmQ"
      },
      "source": [
        "def getContentFromUser():\r\n",
        "    return input(\"Enter the Content you want to Encrypt in your python Script\")"
      ],
      "execution_count": 8,
      "outputs": []
    },
    {
      "cell_type": "code",
      "metadata": {
        "colab": {
          "base_uri": "https://localhost:8080/",
          "height": 52
        },
        "id": "-0uXywg0WEpf",
        "outputId": "9dcac571-6541-4a32-ee1d-5821626e51e6"
      },
      "source": [
        "getContentFromUser()"
      ],
      "execution_count": 9,
      "outputs": [
        {
          "output_type": "stream",
          "text": [
            "Enter the Content you want to Encrypt in your python ScriptHey Man I am Kashyap\n"
          ],
          "name": "stdout"
        },
        {
          "output_type": "execute_result",
          "data": {
            "application/vnd.google.colaboratory.intrinsic+json": {
              "type": "string"
            },
            "text/plain": [
              "'Hey Man I am Kashyap'"
            ]
          },
          "metadata": {
            "tags": []
          },
          "execution_count": 9
        }
      ]
    },
    {
      "cell_type": "code",
      "metadata": {
        "id": "u9_6IJC-WHOK"
      },
      "source": [
        "def encryptMessage(message_normal):\r\n",
        "    key = getMyKey()\r\n",
        "    k = Fernet(key)\r\n",
        "    encrypted_Message = k.encrypt(message_normal)\r\n",
        "    return encrypted_Message"
      ],
      "execution_count": 10,
      "outputs": []
    },
    {
      "cell_type": "code",
      "metadata": {
        "colab": {
          "base_uri": "https://localhost:8080/"
        },
        "id": "_l-0PtUwWPdu",
        "outputId": "5bbf2c7f-cb89-4064-c1fb-af0c6dcf52b3"
      },
      "source": [
        "encryptMessage(b\" HEY THIS IS MY ATM NUMBER 734451\")"
      ],
      "execution_count": 11,
      "outputs": [
        {
          "output_type": "execute_result",
          "data": {
            "text/plain": [
              "b'gAAAAABf2fHzUohih_w9Zj3qpp2PdTdybzmp5aSKyBQIBosXf2S4CTsNNrgsWN9rz6yxGv7HqiMT0VXzcYjcPlXJNTscclSlzhLxhGH_W_rlvey9L5i4TxfTIcKGZPxr9rFx2Otjx5ar'"
            ]
          },
          "metadata": {
            "tags": []
          },
          "execution_count": 11
        }
      ]
    },
    {
      "cell_type": "code",
      "metadata": {
        "id": "XJxdahbIWSXy"
      },
      "source": [
        "def decryptMessage(message_secret):\r\n",
        "    key = getMyKey()\r\n",
        "    k = Fernet(key)\r\n",
        "    decrypted_Message = k.decrypt(message_secret)\r\n",
        "    return decrypted_Message"
      ],
      "execution_count": 12,
      "outputs": []
    },
    {
      "cell_type": "code",
      "metadata": {
        "colab": {
          "base_uri": "https://localhost:8080/"
        },
        "id": "sUGyrwyzWa6x",
        "outputId": "7fa73494-350e-49c8-dbf1-8c9aff96d071"
      },
      "source": [
        "decryptMessage(b'gAAAAABf2fHzUohih_w9Zj3qpp2PdTdybzmp5aSKyBQIBosXf2S4CTsNNrgsWN9rz6yxGv7HqiMT0VXzcYjcPlXJNTscclSlzhLxhGH_W_rlvey9L5i4TxfTIcKGZPxr9rFx2Otjx5ar')\r\n"
      ],
      "execution_count": 15,
      "outputs": [
        {
          "output_type": "execute_result",
          "data": {
            "text/plain": [
              "b' HEY THIS IS MY ATM NUMBER 734451'"
            ]
          },
          "metadata": {
            "tags": []
          },
          "execution_count": 15
        }
      ]
    },
    {
      "cell_type": "code",
      "metadata": {
        "id": "-xwHkR9TWfgu"
      },
      "source": [
        "# Cryptography means converting a simple plain text into something \r\n",
        "# which is not understandable easy until someone has the KEY or Code "
      ],
      "execution_count": 16,
      "outputs": []
    },
    {
      "cell_type": "code",
      "metadata": {
        "id": "YfPL4sqHW4kN"
      },
      "source": [
        "# Cipher Text :- A text which is the result of Encryption is knows as Cipher Text."
      ],
      "execution_count": 18,
      "outputs": []
    },
    {
      "cell_type": "code",
      "metadata": {
        "id": "VMjA6PuzW_2v"
      },
      "source": [
        "# Encryption :- Converting a message to Secret message is known as Encrytpion "
      ],
      "execution_count": 19,
      "outputs": []
    },
    {
      "cell_type": "code",
      "metadata": {
        "id": "Z4ND_bxjXLFA"
      },
      "source": [
        "# Decryption :- Converting back the Secret messege to Normal Message "
      ],
      "execution_count": 20,
      "outputs": []
    },
    {
      "cell_type": "code",
      "metadata": {
        "id": "EU8Dw0q5XRKI"
      },
      "source": [
        ""
      ],
      "execution_count": null,
      "outputs": []
    }
  ]
}